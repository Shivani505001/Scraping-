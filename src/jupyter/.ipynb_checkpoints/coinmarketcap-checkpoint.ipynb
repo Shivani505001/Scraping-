{
 "cells": [
  {
   "cell_type": "code",
   "execution_count": 1,
   "id": "733e8488-ea8e-42bc-8305-8c6a553a42e0",
   "metadata": {},
   "outputs": [],
   "source": [
    "from selenium import webdriver \n",
    "#from selenium.webdriver.chrome.options import Options\n",
    "import time "
   ]
  },
  {
   "cell_type": "code",
   "execution_count": 13,
   "id": "6478c4cd-8aac-4741-852a-3c24e33dddf1",
   "metadata": {},
   "outputs": [],
   "source": [
    "#options = Options()"
   ]
  },
  {
   "cell_type": "code",
   "execution_count": 14,
   "id": "cf787b11-fdfc-43b5-9e76-dc42b8dd5cc5",
   "metadata": {},
   "outputs": [],
   "source": [
    "#url=\"https://coinmarketcap.com/\"\n"
   ]
  },
  {
   "cell_type": "code",
   "execution_count": 15,
   "id": "ddeec39e-84bb-43de-b17c-bd516695b246",
   "metadata": {},
   "outputs": [
    {
     "name": "stdout",
     "output_type": "stream",
     "text": [
      "Requirement already satisfied: pip in d:\\project\\venv\\lib\\site-packages (24.0)\n",
      "Requirement already satisfied: selenium in d:\\project\\venv\\lib\\site-packages (4.21.0)\n",
      "Requirement already satisfied: webdriver-manager in d:\\project\\venv\\lib\\site-packages (4.0.1)\n",
      "Requirement already satisfied: urllib3<3,>=1.26 in d:\\project\\venv\\lib\\site-packages (from urllib3[socks]<3,>=1.26->selenium) (2.2.1)\n",
      "Requirement already satisfied: trio~=0.17 in d:\\project\\venv\\lib\\site-packages (from selenium) (0.25.1)\n",
      "Requirement already satisfied: trio-websocket~=0.9 in d:\\project\\venv\\lib\\site-packages (from selenium) (0.11.1)\n",
      "Requirement already satisfied: certifi>=2021.10.8 in d:\\project\\venv\\lib\\site-packages (from selenium) (2024.6.2)\n",
      "Requirement already satisfied: typing_extensions>=4.9.0 in d:\\project\\venv\\lib\\site-packages (from selenium) (4.12.1)\n",
      "Requirement already satisfied: requests in d:\\project\\venv\\lib\\site-packages (from webdriver-manager) (2.32.3)\n",
      "Requirement already satisfied: python-dotenv in d:\\project\\venv\\lib\\site-packages (from webdriver-manager) (1.0.1)\n",
      "Requirement already satisfied: packaging in d:\\project\\venv\\lib\\site-packages (from webdriver-manager) (24.0)\n",
      "Requirement already satisfied: attrs>=23.2.0 in d:\\project\\venv\\lib\\site-packages (from trio~=0.17->selenium) (23.2.0)\n",
      "Requirement already satisfied: sortedcontainers in d:\\project\\venv\\lib\\site-packages (from trio~=0.17->selenium) (2.4.0)\n",
      "Requirement already satisfied: idna in d:\\project\\venv\\lib\\site-packages (from trio~=0.17->selenium) (3.7)\n",
      "Requirement already satisfied: outcome in d:\\project\\venv\\lib\\site-packages (from trio~=0.17->selenium) (1.3.0.post0)\n",
      "Requirement already satisfied: sniffio>=1.3.0 in d:\\project\\venv\\lib\\site-packages (from trio~=0.17->selenium) (1.3.1)\n",
      "Requirement already satisfied: cffi>=1.14 in d:\\project\\venv\\lib\\site-packages (from trio~=0.17->selenium) (1.16.0)\n",
      "Requirement already satisfied: wsproto>=0.14 in d:\\project\\venv\\lib\\site-packages (from trio-websocket~=0.9->selenium) (1.2.0)\n",
      "Requirement already satisfied: pysocks!=1.5.7,<2.0,>=1.5.6 in d:\\project\\venv\\lib\\site-packages (from urllib3[socks]<3,>=1.26->selenium) (1.7.1)\n",
      "Requirement already satisfied: charset-normalizer<4,>=2 in d:\\project\\venv\\lib\\site-packages (from requests->webdriver-manager) (3.3.2)\n",
      "Requirement already satisfied: pycparser in d:\\project\\venv\\lib\\site-packages (from cffi>=1.14->trio~=0.17->selenium) (2.22)\n",
      "Requirement already satisfied: h11<1,>=0.9.0 in d:\\project\\venv\\lib\\site-packages (from wsproto>=0.14->trio-websocket~=0.9->selenium) (0.14.0)\n"
     ]
    }
   ],
   "source": [
    "#driver = webdriver.Chrome(options=options)\n",
    "#try:\n",
    "    #driver.get(url) #HTTP GET request - requests.get(url)\n",
    "    #time.sleep(10)\n",
    "#finally:\n",
    "    #driver.quit()\n",
    "!python.exe -m pip install --upgrade pip\n",
    "!pip install selenium webdriver-manager\n"
   ]
  },
  {
   "cell_type": "code",
   "execution_count": 11,
   "id": "5cdaf806-d8bb-4569-96b5-f993a7248a83",
   "metadata": {},
   "outputs": [],
   "source": [
    "from selenium.webdriver.common.by import By\n",
    "from selenium.webdriver.chrome.service import Service\n",
    "from webdriver_manager.chrome import ChromeDriverManager\n",
    "from bs4 import BeautifulSoup\n"
   ]
  },
  {
   "cell_type": "markdown",
   "id": "d3a19c99-2328-466a-a106-ccd9cfbeef8d",
   "metadata": {},
   "source": [
    "```html\n",
    "<span class=\"sc-d1ede7e3-0 fsQm base-text\">$0.004871</span>\n",
    "```\n"
   ]
  },
  {
   "cell_type": "code",
   "execution_count": 26,
   "id": "3df54afc-ad1e-4423-8cae-9fc378ca7668",
   "metadata": {},
   "outputs": [
    {
     "name": "stdout",
     "output_type": "stream",
     "text": [
      "None\n"
     ]
    }
   ],
   "source": [
    "class CoinMarketCapScraper:\n",
    "    def __init__(self, coin):\n",
    "        self.coin = coin\n",
    "        self.url = f\"https://coinmarketcap.com/currencies/{coin}/\"\n",
    "        self.driver = webdriver.Chrome(service=Service(ChromeDriverManager().install()))\n",
    "\n",
    "    \n",
    "    def get_coin_data(self):\n",
    "       def get_coin_data(self):\n",
    "        self.driver.get(self.url)\n",
    "\n",
    "        # Wait for the price element to be loaded in the DOM\n",
    "        try:\n",
    "            price_element = WebDriverWait(self.driver, 10).until(\n",
    "                EC.presence_of_element_located((By.CSS_SELECTOR, \"span.sc-d1ede7e3-0.fsQm.base-text\"))\n",
    "            )\n",
    "        except:\n",
    "            print(f\"Price element not found for coin: {self.coin}\")\n",
    "            self.driver.quit()\n",
    "            return None\n",
    "\n",
    "        html_content = self.driver.page_source\n",
    "        soup = BeautifulSoup(html_content, \"html.parser\")\n",
    "        \n",
    "        data = {}\n",
    "\n",
    "        # Extract price\n",
    "        try:\n",
    "            price_element = soup.select_one('span.sc-d1ede7e3-0.fsQm.base-text')\n",
    "            data['price'] = price_element.text if price_element else None\n",
    "            print(f\"Price found: {data['price']}\")\n",
    "        except Exception as e:\n",
    "            print(f\"Error extracting price for coin {self.coin}: {e}\")\n",
    "            data['price'] = None\n",
    "\n",
    "        return data\n",
    "        \n",
    "        return data\n",
    "\n",
    "    def close(self):\n",
    "        self.driver.quit()\n",
    "scraper = CoinMarketCapScraper('duke')\n",
    "data = scraper.get_coin_data()\n",
    "scraper.close()\n",
    "print(data)"
   ]
  },
  {
   "cell_type": "code",
   "execution_count": 25,
   "id": "1d7bbc22-f9db-490b-bc72-18ffd9b14948",
   "metadata": {},
   "outputs": [
    {
     "name": "stdout",
     "output_type": "stream",
     "text": [
      "None\n"
     ]
    }
   ],
   "source": []
  },
  {
   "cell_type": "code",
   "execution_count": 6,
   "id": "433f679d-49cb-49fc-bf39-4c96aca840ca",
   "metadata": {},
   "outputs": [
    {
     "name": "stderr",
     "output_type": "stream",
     "text": [
      "[NbConvertApp] Converting notebook coinmarketcap.ipynb to script\n",
      "[NbConvertApp] Writing 4579 bytes to coinmarketcap.py\n"
     ]
    }
   ],
   "source": [
    "!jupyter nbconvert --to script coinmarketcap.ipynb"
   ]
  },
  {
   "cell_type": "code",
   "execution_count": null,
   "id": "6df286f6-8185-43b3-9171-ada633c43bdd",
   "metadata": {},
   "outputs": [],
   "source": []
  }
 ],
 "metadata": {
  "kernelspec": {
   "display_name": "Python 3 (ipykernel)",
   "language": "python",
   "name": "python3"
  },
  "language_info": {
   "codemirror_mode": {
    "name": "ipython",
    "version": 3
   },
   "file_extension": ".py",
   "mimetype": "text/x-python",
   "name": "python",
   "nbconvert_exporter": "python",
   "pygments_lexer": "ipython3",
   "version": "3.11.0"
  }
 },
 "nbformat": 4,
 "nbformat_minor": 5
}
